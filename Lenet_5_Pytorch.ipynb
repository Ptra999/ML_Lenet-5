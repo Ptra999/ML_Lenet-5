{
  "cells": [
    {
      "cell_type": "code",
      "execution_count": 66,
      "metadata": {
        "id": "Ju9mxEF6hMCL"
      },
      "outputs": [],
      "source": [
        "# Making the neccessary imports\n",
        "\n",
        "import numpy as np \n",
        "import pandas as pd \n",
        "import os\n",
        "\n",
        "import torch\n",
        "import torch.nn.functional as F\n",
        "from torch import nn, optim\n",
        "from torch.utils.data.sampler import SubsetRandomSampler\n",
        "from torchvision import transforms, models\n",
        "import matplotlib.pyplot as plt\n",
        "from torch.utils.data import DataLoader\n",
        "import warnings\n",
        "warnings.filterwarnings('ignore')"
      ]
    },
    {
      "cell_type": "code",
      "execution_count": 67,
      "metadata": {
        "id": "9NTXwo4mhR7y"
      },
      "outputs": [],
      "source": [
        "# Define relevant parameters\n",
        "\n",
        "batch_size = 32\n",
        "transforms = transforms.Compose([\n",
        "    transforms.ToPILImage(),\n",
        "    transforms.ToTensor(),\n",
        "    transforms.Normalize(mean=(0.5, ), std=(0.5,))\n",
        "])"
      ]
    },
    {
      "cell_type": "code",
      "execution_count": 68,
      "metadata": {
        "id": "vWK5sU4XhUBu"
      },
      "outputs": [],
      "source": [
        "# MNIST data cannot be used directly as Lenet5 accepts 32*32 inputs/ So we are reshaping the images here\n",
        "\n",
        "class Mnist(torch.utils.data.Dataset):\n",
        "    def __init__(self, data, transforms=None):\n",
        "        self.data = data\n",
        "        self.transforms = transforms\n",
        "    \n",
        "    def __len__(self):\n",
        "        return len(self.data)\n",
        "    \n",
        "    def __getitem__(self, index):\n",
        "        #Each time we get a row of data\n",
        "        item = self.data.iloc[index]\n",
        "        image = item[1:].values.astype(np.uint8).reshape((28, 28))\n",
        "        label = item[0]\n",
        "        \n",
        "        if self.transforms is not None:\n",
        "            image = self.transforms(image)\n",
        "            \n",
        "        return image, label"
      ]
    },
    {
      "cell_type": "code",
      "execution_count": 69,
      "metadata": {
        "colab": {
          "base_uri": "https://localhost:8080/",
          "height": 373
        },
        "id": "pi1RUl1hiLvY",
        "outputId": "574ae059-99cf-4687-f1f8-31544d8b04dc"
      },
      "outputs": [],
      "source": [
        "# Loading the datset\n",
        "\n",
        "dataset = pd.read_csv('train.csv')"
      ]
    },
    {
      "cell_type": "code",
      "execution_count": 70,
      "metadata": {
        "id": "lPMO0qz2heBO"
      },
      "outputs": [
        {
          "data": {
            "text/plain": [
              "60000"
            ]
          },
          "execution_count": 70,
          "metadata": {},
          "output_type": "execute_result"
        }
      ],
      "source": [
        "mydataset = Mnist(dataset, transforms=transforms)\n",
        "len(mydataset)"
      ]
    },
    {
      "cell_type": "code",
      "execution_count": 71,
      "metadata": {
        "id": "b9QH1Bm6hm36"
      },
      "outputs": [],
      "source": [
        "num_train = len(mydataset)\n",
        "indices = list(range(num_train))\n",
        "np.random.shuffle(indices)\n",
        "split = int(np.floor(0.2 * num_train))\n",
        "# print(split)\n",
        "train_idx, test_idx = indices[split:], indices[:split]\n",
        "# print(train_idx)\n",
        "train_sampler = SubsetRandomSampler(train_idx)\n",
        "test_sampler = SubsetRandomSampler(test_idx)\n",
        "\n",
        "batch_size = 100\n",
        "train_loader = DataLoader(mydataset, batch_size=batch_size, sampler=train_sampler)\n",
        "test_loader = DataLoader(mydataset, batch_size=batch_size, sampler=test_sampler)"
      ]
    },
    {
      "cell_type": "code",
      "execution_count": 72,
      "metadata": {
        "id": "8aIbNMTfhxzS"
      },
      "outputs": [],
      "source": [
        "import torch.nn as nn\n",
        "\n",
        "# Defining CNN\n",
        "\n",
        "# There are two main steps performed here\n",
        "\n",
        "# 1st is the initialization of layers in init and the other is the forward function\n",
        "\n",
        "# We first define CNN with the appropriate sizes and similary we define Pooling and sequential layers\n",
        "\n",
        "# We then proceed to define the fully connected layers. And finally output 10 neurons which are the prediction\n",
        "\n",
        "class Lenet5(nn.Module):\n",
        "    def __init__(self):\n",
        "            super(Lenet5, self).__init__()\n",
        "            self.conv = nn.Sequential(\n",
        "                nn.Conv2d(1, 6, 5),   # out = (in - kernal + 2*padding) / stride + 1  (1, 28, 28) -> (6, 24, 24)\n",
        "                nn.ReLU(),\n",
        "                nn.AvgPool2d(2, stride=2), # (N, 6, 24, 24) - > (N, 6, 12, 12)\n",
        "                nn.Conv2d(6, 16, 5), #  (N, 6, 12, 12) -> (N. 6, 8, 8)\n",
        "                nn.ReLU(),\n",
        "                nn.AvgPool2d(2, stride=2)# (N, 16, 8, 8) -> (N, 16, 4, 4)\n",
        "            )\n",
        "\n",
        "            self.fc = nn.Sequential(\n",
        "                nn.Linear(256, 120), #(N, 256) - > (N, 120)\n",
        "                nn.ReLU(),\n",
        "                nn.Linear(120, 84), #(N, 120) - > (N, 84)\n",
        "                nn.ReLU(),\n",
        "                nn.Linear(84, 10)\n",
        "            )\n",
        "    def forward(self, x):\n",
        "        x = self.conv(x)\n",
        "        #flatten\n",
        "        x = x.view(x.size(0), -1)\n",
        "#         print(x.size())\n",
        "        x = self.fc(x)\n",
        "        return x"
      ]
    },
    {
      "cell_type": "code",
      "execution_count": 73,
      "metadata": {
        "id": "CXPesML_ihdl"
      },
      "outputs": [],
      "source": [
        "model = Lenet5()"
      ]
    },
    {
      "cell_type": "code",
      "execution_count": 74,
      "metadata": {
        "id": "J9FqTQOuijTU"
      },
      "outputs": [],
      "source": [
        "# Hyperparameter setting\n",
        "\n",
        "# device = torch.device('cuda' if torch.cuda.is_available() else 'cuda')\n",
        "learning_rate = 0.001\n",
        "criterion = nn.CrossEntropyLoss()\n",
        "# model = model.to(device)\n",
        "# optim = optim.Adam(net.parameters(), lr=learning_rate)\n",
        "optim = torch.optim.Adam(model.parameters(), lr=learning_rate)"
      ]
    },
    {
      "cell_type": "code",
      "execution_count": 75,
      "metadata": {
        "id": "aRJhi4F1ipP0"
      },
      "outputs": [],
      "source": [
        "def evaluation(dataloader):\n",
        "    total, correct = 0, 0\n",
        "    for data in dataloader:\n",
        "        inputs, labels = data\n",
        "        outputs = net(inputs)\n",
        "        _, pred = torch.max(outputs.data, 1)\n",
        "        total += labels.size(0)\n",
        "        correct += (pred == labels).sum().item()\n",
        "    return 100 * correct / total"
      ]
    },
    {
      "cell_type": "code",
      "execution_count": 76,
      "metadata": {
        "id": "nVUnh6JKisQO"
      },
      "outputs": [
        {
          "name": "stdout",
          "output_type": "stream",
          "text": [
            "Epoch: 1/24 Train loss:0.4344 Test loss:0.1859 Test acc:94.4583\n",
            "Epoch: 2/24 Train loss:0.1304 Test loss:0.0956 Test acc:97.2000\n",
            "Epoch: 3/24 Train loss:0.0891 Test loss:0.0846 Test acc:97.4083\n",
            "Epoch: 4/24 Train loss:0.0707 Test loss:0.0719 Test acc:97.8917\n",
            "Epoch: 5/24 Train loss:0.0606 Test loss:0.0569 Test acc:98.3500\n",
            "Epoch: 6/24 Train loss:0.0503 Test loss:0.0526 Test acc:98.4083\n",
            "Epoch: 7/24 Train loss:0.0440 Test loss:0.0537 Test acc:98.4083\n",
            "Epoch: 8/24 Train loss:0.0387 Test loss:0.0537 Test acc:98.4667\n",
            "Epoch: 9/24 Train loss:0.0342 Test loss:0.0482 Test acc:98.4333\n",
            "Epoch: 10/24 Train loss:0.0311 Test loss:0.0428 Test acc:98.6583\n",
            "Epoch: 11/24 Train loss:0.0276 Test loss:0.0477 Test acc:98.6083\n",
            "Epoch: 12/24 Train loss:0.0255 Test loss:0.0408 Test acc:98.8750\n",
            "Epoch: 13/24 Train loss:0.0228 Test loss:0.0420 Test acc:98.7917\n",
            "Epoch: 14/24 Train loss:0.0192 Test loss:0.0478 Test acc:98.6583\n",
            "Epoch: 15/24 Train loss:0.0191 Test loss:0.0412 Test acc:98.9750\n",
            "Epoch: 16/24 Train loss:0.0167 Test loss:0.0452 Test acc:98.8500\n",
            "Epoch: 17/24 Train loss:0.0148 Test loss:0.0390 Test acc:98.9250\n",
            "Epoch: 18/24 Train loss:0.0135 Test loss:0.0416 Test acc:98.8250\n",
            "Epoch: 19/24 Train loss:0.0126 Test loss:0.0425 Test acc:99.0000\n",
            "Epoch: 20/24 Train loss:0.0130 Test loss:0.0420 Test acc:98.9333\n",
            "Epoch: 21/24 Train loss:0.0086 Test loss:0.0416 Test acc:98.9750\n",
            "Epoch: 22/24 Train loss:0.0121 Test loss:0.0426 Test acc:98.9667\n",
            "Epoch: 23/24 Train loss:0.0098 Test loss:0.0459 Test acc:98.8750\n",
            "Epoch: 24/24 Train loss:0.0095 Test loss:0.0505 Test acc:98.8083\n",
            "Best acc:99.0000\n"
          ]
        }
      ],
      "source": [
        "num_epochs = 24\n",
        "best_acc = 0\n",
        "checkpoint = {}\n",
        "test_acc_l = []\n",
        "for epoch in range(num_epochs):\n",
        "    \n",
        "    model.train()\n",
        "    train_loss = 0\n",
        "    for i, data in enumerate(train_loader, 0):\n",
        "        images, labels = data\n",
        "        optim.zero_grad()\n",
        "       \n",
        "        # Forward pass\n",
        "        out = model(images)\n",
        "        loss = criterion(out, labels)\n",
        "        # Backward and optimization\n",
        "        loss.backward()\n",
        "        optim.step()\n",
        "        train_loss += loss.item()\n",
        "        \n",
        "    test_loss = test_acc = correct = 0\n",
        "    # model evaluation\n",
        "    model.eval()\n",
        "    with torch.no_grad():\n",
        "        for i, data in enumerate(test_loader):\n",
        "            images, labels = data\n",
        "            # images, labels = images.to(device), labels.to(device)\n",
        "            out = model(images)\n",
        "            test_loss += criterion(out, labels)\n",
        "            _, pred = torch.max(out, 1)\n",
        "            correct += pred.eq(labels).sum().item()\n",
        "    cur_acc = correct/len(test_loader)\n",
        "    test_acc_l.append(correct/len(test_loader))\n",
        "    print(f\"Epoch: {epoch+1}/{num_epochs}\",\n",
        "          f\"Train loss:{train_loss/len(train_loader):.4f}\",\n",
        "          f\"Test loss:{test_loss/len(test_loader):.4f}\",\n",
        "          f\"Test acc:{correct/len(test_loader):.4f}\")\n",
        "    #Save model state\n",
        "    if cur_acc > best_acc:\n",
        "        best_acc = cur_acc\n",
        "        torch.save(model, 'model.pt')\n",
        "# \n",
        "\n",
        "print(f\"Best acc:{best_acc:.4f}\")\n",
        "#torch.save(checkpoint, 'ckp.s')  "
      ]
    },
    {
      "cell_type": "code",
      "execution_count": 77,
      "metadata": {
        "id": "wtEJU21Ciz56"
      },
      "outputs": [
        {
          "data": {
            "image/png": "[encoded data removed]",
            "text/plain": [
              "<Figure size 640x480 with 1 Axes>"
            ]
          },
          "metadata": {},
          "output_type": "display_data"
        }
      ],
      "source": [
        "# accuracy\n",
        "\n",
        "x = np.arange(1, num_epochs+1)\n",
        "plt.title(\"Accuracy Plot\")\n",
        "plt.xlabel(\"Epoch\")\n",
        "plt.ylabel(\"Accuracy\")\n",
        "plt.plot(x, test_acc_l)\n",
        "plt.show()\n"
      ]
    },
    {
      "cell_type": "code",
      "execution_count": null,
      "metadata": {},
      "outputs": [],
      "source": []
    }
  ],
  "metadata": {
    "accelerator": "GPU",
    "colab": {
      "provenance": []
    },
    "gpuClass": "standard",
    "kernelspec": {
      "display_name": "Python 3.10.7 64-bit",
      "language": "python",
      "name": "python3"
    },
    "language_info": {
      "codemirror_mode": {
        "name": "ipython",
        "version": 3
      },
      "file_extension": ".py",
      "mimetype": "text/x-python",
      "name": "python",
      "nbconvert_exporter": "python",
      "pygments_lexer": "ipython3",
      "version": "3.10.7"
    },
    "vscode": {
      "interpreter": {
        "hash": "aee8b7b246df8f9039afb4144a1f6fd8d2ca17a180786b69acc140d282b71a49"
      }
    }
  },
  "nbformat": 4,
  "nbformat_minor": 0
}
